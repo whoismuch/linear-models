{
 "cells": [
  {
   "cell_type": "code",
   "execution_count": 1,
   "id": "initial_id",
   "metadata": {
    "ExecuteTime": {
     "end_time": "2023-11-20T17:52:34.274636Z",
     "start_time": "2023-11-20T17:52:31.708250Z"
    },
    "collapsed": true
   },
   "outputs": [],
   "source": [
    "import numpy as np\n",
    "import matplotlib.pyplot as plt\n",
    "from sklearn.model_selection import train_test_split\n",
    "import pandas as pd\n",
    "# import seaborn as sns\n",
    "# from sklearn.ensemble import RandomForestClassifier\n",
    "from sklearn import preprocessing\n",
    "import math\n",
    "\n",
    "rng = np.random.default_rng(51)\n"
   ]
  },
  {
   "cell_type": "code",
   "execution_count": 2,
   "id": "7be5c35955b307a4",
   "metadata": {
    "ExecuteTime": {
     "end_time": "2023-11-20T17:39:01.704252Z",
     "start_time": "2023-11-20T17:39:01.686923Z"
    },
    "collapsed": false
   },
   "outputs": [],
   "source": [
    "df = pd.read_csv('letter-recognition.data', header=None)\n"
   ]
  },
  {
   "cell_type": "code",
   "execution_count": 3,
   "id": "ed49e1f0b162fff5",
   "metadata": {
    "ExecuteTime": {
     "end_time": "2023-11-20T17:39:02.398476Z",
     "start_time": "2023-11-20T17:39:02.389560Z"
    },
    "collapsed": false
   },
   "outputs": [
    {
     "data": {
      "text/html": [
       "<div>\n",
       "<style scoped>\n",
       "    .dataframe tbody tr th:only-of-type {\n",
       "        vertical-align: middle;\n",
       "    }\n",
       "\n",
       "    .dataframe tbody tr th {\n",
       "        vertical-align: top;\n",
       "    }\n",
       "\n",
       "    .dataframe thead th {\n",
       "        text-align: right;\n",
       "    }\n",
       "</style>\n",
       "<table border=\"1\" class=\"dataframe\">\n",
       "  <thead>\n",
       "    <tr style=\"text-align: right;\">\n",
       "      <th></th>\n",
       "      <th>0</th>\n",
       "      <th>1</th>\n",
       "      <th>2</th>\n",
       "      <th>3</th>\n",
       "      <th>4</th>\n",
       "      <th>5</th>\n",
       "      <th>6</th>\n",
       "      <th>7</th>\n",
       "      <th>8</th>\n",
       "      <th>9</th>\n",
       "      <th>10</th>\n",
       "      <th>11</th>\n",
       "      <th>12</th>\n",
       "      <th>13</th>\n",
       "      <th>14</th>\n",
       "      <th>15</th>\n",
       "      <th>16</th>\n",
       "    </tr>\n",
       "  </thead>\n",
       "  <tbody>\n",
       "    <tr>\n",
       "      <th>0</th>\n",
       "      <td>T</td>\n",
       "      <td>2</td>\n",
       "      <td>8</td>\n",
       "      <td>3</td>\n",
       "      <td>5</td>\n",
       "      <td>1</td>\n",
       "      <td>8</td>\n",
       "      <td>13</td>\n",
       "      <td>0</td>\n",
       "      <td>6</td>\n",
       "      <td>6</td>\n",
       "      <td>10</td>\n",
       "      <td>8</td>\n",
       "      <td>0</td>\n",
       "      <td>8</td>\n",
       "      <td>0</td>\n",
       "      <td>8</td>\n",
       "    </tr>\n",
       "    <tr>\n",
       "      <th>1</th>\n",
       "      <td>I</td>\n",
       "      <td>5</td>\n",
       "      <td>12</td>\n",
       "      <td>3</td>\n",
       "      <td>7</td>\n",
       "      <td>2</td>\n",
       "      <td>10</td>\n",
       "      <td>5</td>\n",
       "      <td>5</td>\n",
       "      <td>4</td>\n",
       "      <td>13</td>\n",
       "      <td>3</td>\n",
       "      <td>9</td>\n",
       "      <td>2</td>\n",
       "      <td>8</td>\n",
       "      <td>4</td>\n",
       "      <td>10</td>\n",
       "    </tr>\n",
       "    <tr>\n",
       "      <th>2</th>\n",
       "      <td>D</td>\n",
       "      <td>4</td>\n",
       "      <td>11</td>\n",
       "      <td>6</td>\n",
       "      <td>8</td>\n",
       "      <td>6</td>\n",
       "      <td>10</td>\n",
       "      <td>6</td>\n",
       "      <td>2</td>\n",
       "      <td>6</td>\n",
       "      <td>10</td>\n",
       "      <td>3</td>\n",
       "      <td>7</td>\n",
       "      <td>3</td>\n",
       "      <td>7</td>\n",
       "      <td>3</td>\n",
       "      <td>9</td>\n",
       "    </tr>\n",
       "    <tr>\n",
       "      <th>3</th>\n",
       "      <td>N</td>\n",
       "      <td>7</td>\n",
       "      <td>11</td>\n",
       "      <td>6</td>\n",
       "      <td>6</td>\n",
       "      <td>3</td>\n",
       "      <td>5</td>\n",
       "      <td>9</td>\n",
       "      <td>4</td>\n",
       "      <td>6</td>\n",
       "      <td>4</td>\n",
       "      <td>4</td>\n",
       "      <td>10</td>\n",
       "      <td>6</td>\n",
       "      <td>10</td>\n",
       "      <td>2</td>\n",
       "      <td>8</td>\n",
       "    </tr>\n",
       "    <tr>\n",
       "      <th>4</th>\n",
       "      <td>G</td>\n",
       "      <td>2</td>\n",
       "      <td>1</td>\n",
       "      <td>3</td>\n",
       "      <td>1</td>\n",
       "      <td>1</td>\n",
       "      <td>8</td>\n",
       "      <td>6</td>\n",
       "      <td>6</td>\n",
       "      <td>6</td>\n",
       "      <td>6</td>\n",
       "      <td>5</td>\n",
       "      <td>9</td>\n",
       "      <td>1</td>\n",
       "      <td>7</td>\n",
       "      <td>5</td>\n",
       "      <td>10</td>\n",
       "    </tr>\n",
       "    <tr>\n",
       "      <th>...</th>\n",
       "      <td>...</td>\n",
       "      <td>...</td>\n",
       "      <td>...</td>\n",
       "      <td>...</td>\n",
       "      <td>...</td>\n",
       "      <td>...</td>\n",
       "      <td>...</td>\n",
       "      <td>...</td>\n",
       "      <td>...</td>\n",
       "      <td>...</td>\n",
       "      <td>...</td>\n",
       "      <td>...</td>\n",
       "      <td>...</td>\n",
       "      <td>...</td>\n",
       "      <td>...</td>\n",
       "      <td>...</td>\n",
       "      <td>...</td>\n",
       "    </tr>\n",
       "    <tr>\n",
       "      <th>19995</th>\n",
       "      <td>D</td>\n",
       "      <td>2</td>\n",
       "      <td>2</td>\n",
       "      <td>3</td>\n",
       "      <td>3</td>\n",
       "      <td>2</td>\n",
       "      <td>7</td>\n",
       "      <td>7</td>\n",
       "      <td>7</td>\n",
       "      <td>6</td>\n",
       "      <td>6</td>\n",
       "      <td>6</td>\n",
       "      <td>4</td>\n",
       "      <td>2</td>\n",
       "      <td>8</td>\n",
       "      <td>3</td>\n",
       "      <td>7</td>\n",
       "    </tr>\n",
       "    <tr>\n",
       "      <th>19996</th>\n",
       "      <td>C</td>\n",
       "      <td>7</td>\n",
       "      <td>10</td>\n",
       "      <td>8</td>\n",
       "      <td>8</td>\n",
       "      <td>4</td>\n",
       "      <td>4</td>\n",
       "      <td>8</td>\n",
       "      <td>6</td>\n",
       "      <td>9</td>\n",
       "      <td>12</td>\n",
       "      <td>9</td>\n",
       "      <td>13</td>\n",
       "      <td>2</td>\n",
       "      <td>9</td>\n",
       "      <td>3</td>\n",
       "      <td>7</td>\n",
       "    </tr>\n",
       "    <tr>\n",
       "      <th>19997</th>\n",
       "      <td>T</td>\n",
       "      <td>6</td>\n",
       "      <td>9</td>\n",
       "      <td>6</td>\n",
       "      <td>7</td>\n",
       "      <td>5</td>\n",
       "      <td>6</td>\n",
       "      <td>11</td>\n",
       "      <td>3</td>\n",
       "      <td>7</td>\n",
       "      <td>11</td>\n",
       "      <td>9</td>\n",
       "      <td>5</td>\n",
       "      <td>2</td>\n",
       "      <td>12</td>\n",
       "      <td>2</td>\n",
       "      <td>4</td>\n",
       "    </tr>\n",
       "    <tr>\n",
       "      <th>19998</th>\n",
       "      <td>S</td>\n",
       "      <td>2</td>\n",
       "      <td>3</td>\n",
       "      <td>4</td>\n",
       "      <td>2</td>\n",
       "      <td>1</td>\n",
       "      <td>8</td>\n",
       "      <td>7</td>\n",
       "      <td>2</td>\n",
       "      <td>6</td>\n",
       "      <td>10</td>\n",
       "      <td>6</td>\n",
       "      <td>8</td>\n",
       "      <td>1</td>\n",
       "      <td>9</td>\n",
       "      <td>5</td>\n",
       "      <td>8</td>\n",
       "    </tr>\n",
       "    <tr>\n",
       "      <th>19999</th>\n",
       "      <td>A</td>\n",
       "      <td>4</td>\n",
       "      <td>9</td>\n",
       "      <td>6</td>\n",
       "      <td>6</td>\n",
       "      <td>2</td>\n",
       "      <td>9</td>\n",
       "      <td>5</td>\n",
       "      <td>3</td>\n",
       "      <td>1</td>\n",
       "      <td>8</td>\n",
       "      <td>1</td>\n",
       "      <td>8</td>\n",
       "      <td>2</td>\n",
       "      <td>7</td>\n",
       "      <td>2</td>\n",
       "      <td>8</td>\n",
       "    </tr>\n",
       "  </tbody>\n",
       "</table>\n",
       "<p>20000 rows × 17 columns</p>\n",
       "</div>"
      ],
      "text/plain": [
       "      0   1   2   3   4   5   6   7   8   9   10  11  12  13  14  15  16\n",
       "0      T   2   8   3   5   1   8  13   0   6   6  10   8   0   8   0   8\n",
       "1      I   5  12   3   7   2  10   5   5   4  13   3   9   2   8   4  10\n",
       "2      D   4  11   6   8   6  10   6   2   6  10   3   7   3   7   3   9\n",
       "3      N   7  11   6   6   3   5   9   4   6   4   4  10   6  10   2   8\n",
       "4      G   2   1   3   1   1   8   6   6   6   6   5   9   1   7   5  10\n",
       "...   ..  ..  ..  ..  ..  ..  ..  ..  ..  ..  ..  ..  ..  ..  ..  ..  ..\n",
       "19995  D   2   2   3   3   2   7   7   7   6   6   6   4   2   8   3   7\n",
       "19996  C   7  10   8   8   4   4   8   6   9  12   9  13   2   9   3   7\n",
       "19997  T   6   9   6   7   5   6  11   3   7  11   9   5   2  12   2   4\n",
       "19998  S   2   3   4   2   1   8   7   2   6  10   6   8   1   9   5   8\n",
       "19999  A   4   9   6   6   2   9   5   3   1   8   1   8   2   7   2   8\n",
       "\n",
       "[20000 rows x 17 columns]"
      ]
     },
     "execution_count": 3,
     "metadata": {},
     "output_type": "execute_result"
    }
   ],
   "source": [
    "df"
   ]
  },
  {
   "cell_type": "code",
   "execution_count": 3,
   "id": "d69b6367244ad1a6",
   "metadata": {
    "ExecuteTime": {
     "end_time": "2023-11-20T17:47:20.119266Z",
     "start_time": "2023-11-20T17:47:20.086512Z"
    },
    "collapsed": false
   },
   "outputs": [],
   "source": [
    "le = preprocessing.LabelEncoder()\n",
    "for column_name in df.columns:\n",
    "    df[column_name] = le.fit_transform(df[column_name])\n",
    "y = df[0]\n",
    "X = df.loc[:, df.columns != 0]"
   ]
  },
  {
   "cell_type": "code",
   "execution_count": 4,
   "id": "6a1471297070c6aa",
   "metadata": {
    "ExecuteTime": {
     "end_time": "2023-11-20T17:52:38.853076Z",
     "start_time": "2023-11-20T17:52:38.826267Z"
    },
    "collapsed": false
   },
   "outputs": [],
   "source": [
    "X_train, X_test, y_train, y_test = train_test_split(X, y, test_size=0.3, random_state=42)\n"
   ]
  },
  {
   "cell_type": "code",
   "execution_count": 5,
   "id": "1a03592a",
   "metadata": {},
   "outputs": [],
   "source": [
    "X_train =  X_train.to_numpy()\n",
    "y_train = y_train.to_numpy()\n",
    "y_test = y_test.to_numpy()\n",
    "X_test = X_test.to_numpy()"
   ]
  },
  {
   "cell_type": "code",
   "execution_count": 6,
   "id": "e20052b30089916c",
   "metadata": {
    "collapsed": false
   },
   "outputs": [
    {
     "name": "stdout",
     "output_type": "stream",
     "text": [
      "N 1 acc=0.9227142857142857\n"
     ]
    }
   ],
   "source": [
    "from random_forest import RandomForest\n",
    "from decision_tree import DecisionTree\n",
    "from random_forest import accuracy\n",
    "\n",
    "n_trees = np.arange(1,5)\n",
    "acc_train_rf = []\n",
    "acc_test_rf = []\n",
    "\n",
    "for n in n_trees:\n",
    "    forest = RandomForest(n)\n",
    "    forest.fit(X_train, y_train)\n",
    "    a = accuracy(forest, X_train, y_train)\n",
    "    acc_train_rf.append(a)\n",
    "    print(f'N {n} acc={a}')\n",
    "    acc_test_rf.append( accuracy(forest, X_test, y_test))\n",
    "\n",
    "\n",
    "rf_acc = np.array(acc_train_rf).max()\n",
    "#print('Decision Tree Accuracy: {:0.3f}'.format(dt_acc))    \n",
    "print('Random Forest Accuracy: {:0.3f}'.format(rf_acc))\n",
    "\n",
    "f, ax = plt.subplots(figsize=(5,4), dpi=125)\n",
    "ax.plot(n_trees, acc_train_rf, label='Training')\n",
    "#ax.plot(n_trees, acc_test_rf, label='Test')\n",
    "#ax.plot([1, 26], [dt_acc, dt_acc], label='Decision Tree', ls=':')\n",
    "ax.set_xlabel('# Trees'); ax.set_ylabel('acc'); ax.legend();"
   ]
  },
  {
   "cell_type": "code",
   "execution_count": 10,
   "id": "ed4cd802",
   "metadata": {},
   "outputs": [],
   "source": [
    "y_pred = forest.predict(X_test)"
   ]
  },
  {
   "cell_type": "code",
   "execution_count": 11,
   "id": "a7e2632d",
   "metadata": {},
   "outputs": [
    {
     "data": {
      "text/plain": [
       "array([23, 11,  0, ...,  9, 25,  5])"
      ]
     },
     "execution_count": 11,
     "metadata": {},
     "output_type": "execute_result"
    }
   ],
   "source": [
    "y_pred"
   ]
  },
  {
   "cell_type": "code",
   "execution_count": 13,
   "id": "c5416777",
   "metadata": {},
   "outputs": [
    {
     "name": "stdout",
     "output_type": "stream",
     "text": [
      "[19 11  0 ...  9 25  5]\n"
     ]
    }
   ],
   "source": [
    "print(y_test)"
   ]
  },
  {
   "cell_type": "code",
   "execution_count": null,
   "id": "b2f1a2d3",
   "metadata": {},
   "outputs": [],
   "source": [
    "(y_test)"
   ]
  },
  {
   "cell_type": "code",
   "execution_count": null,
   "id": "08ecbf1e",
   "metadata": {},
   "outputs": [],
   "source": [
    "\n",
    "from sklearn.metrics import classification_report\n",
    "\n",
    "with open ('metrics.txt', 'w') as out:\n",
    "    out.writelines(classification_report(y_pred, y_test))"
   ]
  },
  {
   "cell_type": "code",
   "execution_count": 18,
   "id": "50ade0f0",
   "metadata": {},
   "outputs": [
    {
     "name": "stdout",
     "output_type": "stream",
     "text": [
      "Random Forest Accuracy: 0.987\n",
      "Random Forest (sklearn) Accuracy: 0.893\n"
     ]
    },
    {
     "data": {
      "image/png": "[encoded data removed]",
      "text/plain": [
       "<Figure size 625x500 with 1 Axes>"
      ]
     },
     "metadata": {},
     "output_type": "display_data"
    }
   ],
   "source": [
    "from sklearn.ensemble import RandomForestClassifier\n",
    "\n",
    "acc_test_sk = []\n",
    "for n in n_trees:\n",
    "    forest = RandomForestClassifier(n_estimators=n)\n",
    "    forest.fit(X_train, y_train)\n",
    "    acc_test_sk.append(accuracy(forest, X_test, y_test))\n",
    "\n",
    "print('Random Forest Accuracy: {:0.3f}'.format(rf_acc))\n",
    "print('Random Forest (sklearn) Accuracy: {:0.3f}'.format(np.array(acc_test_sk).max()))\n",
    "\n",
    "f, ax = plt.subplots(figsize=(5,4), dpi=125)\n",
    "ax.plot(n_trees, acc_test_rf, label='Random Forest')\n",
    "ax.plot(n_trees, acc_test_sk, label='Random Forest (sklearn)')\n",
    "ax.set_xlabel('# Trees'); ax.set_ylabel('acc'); ax.legend();"
   ]
  }
 ],
 "metadata": {
  "kernelspec": {
   "display_name": "Python 3",
   "language": "python",
   "name": "python3"
  },
  "language_info": {
   "codemirror_mode": {
    "name": "ipython",
    "version": 3
   },
   "file_extension": ".py",
   "mimetype": "text/x-python",
   "name": "python",
   "nbconvert_exporter": "python",
   "pygments_lexer": "ipython3",
   "version": "3.9.6"
  }
 },
 "nbformat": 4,
 "nbformat_minor": 5
}
