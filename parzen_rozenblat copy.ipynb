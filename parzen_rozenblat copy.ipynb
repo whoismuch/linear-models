{
 "cells": [
  {
   "cell_type": "code",
   "execution_count": 4,
   "metadata": {},
   "outputs": [],
   "source": [
    "import numpy as np\n",
    "import matplotlib.pyplot as plt\n",
    "from sklearn.model_selection import train_test_split\n",
    "import pandas as pd\n",
    "# import seaborn as sns\n",
    "# from sklearn.ensemble import RandomForestClassifier\n",
    "from sklearn import preprocessing\n",
    "import math\n",
    "from sklearn.metrics import accuracy_score\n",
    "rng = np.random.default_rng(51)\n"
   ]
  },
  {
   "cell_type": "code",
   "execution_count": 50,
   "metadata": {},
   "outputs": [],
   "source": [
    "df = pd.read_csv('letter-recognition.data', header=None)\n"
   ]
  },
  {
   "cell_type": "code",
   "execution_count": 6,
   "metadata": {},
   "outputs": [],
   "source": [
    "le = preprocessing.LabelEncoder()\n",
    "for column_name in df.columns:\n",
    "    df[column_name] = le.fit_transform(df[column_name])\n",
    "y = df[0]\n",
    "X = df.loc[:, df.columns != 0]"
   ]
  },
  {
   "cell_type": "code",
   "execution_count": 51,
   "metadata": {},
   "outputs": [],
   "source": [
    "X_train, X_test, y_train, y_test = train_test_split(X, y, test_size=0.3, random_state=42, stratify=y)\n"
   ]
  },
  {
   "cell_type": "code",
   "execution_count": 52,
   "metadata": {},
   "outputs": [],
   "source": [
    "X_train =  X_train.to_numpy()\n",
    "y_train = y_train.to_numpy()\n",
    "y_test = y_test.to_numpy()\n",
    "X_test = X_test.to_numpy()"
   ]
  },
  {
   "cell_type": "code",
   "execution_count": 53,
   "metadata": {},
   "outputs": [],
   "source": [
    "\n",
    "class ParzenRosenblattClassifier:\n",
    "    def __init__(self, kernel='gaussian'):\n",
    "        self.kernel = kernel\n",
    "        self.h_values = None\n",
    "\n",
    "    def fit(self, X, y, h_values=None):\n",
    "        self.X = X\n",
    "        self.y = y\n",
    "        self.h_values = h_values\n",
    "\n",
    "    def leave_one_out(self, h):\n",
    "        predictions = []\n",
    "        for i in range(len(self.X)):\n",
    "            train_X = np.delete(self.X, i, axis=0)\n",
    "            train_y = np.delete(self.y, i, axis=0)\n",
    "            test_point = self.X[i]\n",
    "            predicted_class = self.predict([test_point], h, train_X, train_y)[0]\n",
    "            predictions.append(predicted_class)\n",
    "\n",
    "        return accuracy_score(self.y, predictions)\n",
    "\n",
    "    def select_h(self, h_candidates):\n",
    "        best_h = None\n",
    "        best_accuracy = 0\n",
    "\n",
    "        for h in h_candidates:\n",
    "            accuracy = self.leave_one_out(h)\n",
    "            print(f\"Accuracy for h={h}: {accuracy}\")\n",
    "            \n",
    "            if accuracy > best_accuracy:\n",
    "                best_accuracy = accuracy\n",
    "                best_h = h\n",
    "\n",
    "        return best_h\n",
    "    \n",
    "    def epanechnikov_kernel(self, u):\n",
    "        return 0.75 * (1 - u**2) if np.abs(u) <= 1 else 0\n",
    "\n",
    "    def quartic_kernel(self, u):\n",
    "        return (15 / 16) * (1 - u**2)**2 if np.abs(u) <= 1 else 0\n",
    "    def gaussian_kernel(self, distances, h):\n",
    "        return np.exp(-0.5 * (distances / h)**2) / ((2 * np.pi)**(len(distances[0])/2) * h**len(distances[0]))\n",
    "\n",
    "    \n",
    "\n",
    "    def predict(self, X_new, h=None, train_X=None, train_y=None):\n",
    "        predictions = []\n",
    "        if h is None:\n",
    "            h = self.select_h(self.h_values)\n",
    "\n",
    "        for point in X_new:\n",
    "            scores = {}\n",
    "            for label in set(self.y):\n",
    "                label_indices = np.where(self.y == label)[0]\n",
    "                label_data = self.X[label_indices]\n",
    "                distances = np.linalg.norm(label_data - point, axis=1)\n",
    "                if self.kernel == 'gaussian':\n",
    "                    weights = self.gaussian_kernel(distances, h)\n",
    "                elif self.kernel == 'quartic':\n",
    "                    weights = np.array([self.quartic_kernel(u / h) for u in distances])\n",
    "                elif self.kernel == 'epanechnikov':\n",
    "                    weights = np.array([self.epanechnikov_kernel(u / h) for u in distances])\n",
    "                else:\n",
    "                    pass\n",
    "                scores[label] = sum(weights)\n",
    "\n",
    "            predicted_class = max(scores, key=scores.get)\n",
    "            predictions.append(predicted_class)\n",
    "\n",
    "        return np.array(predictions)\n"
   ]
  },
  {
   "cell_type": "code",
   "execution_count": null,
   "metadata": {},
   "outputs": [
    {
     "name": "stdout",
     "output_type": "stream",
     "text": [
      "Accuracy for h=20: 0.3379285714285714\n",
      "Accuracy for h=1: 0.9998571428571429\n",
      "Accuracy for h=0.1: 1.0\n"
     ]
    }
   ],
   "source": [
    "classParzen = ParzenRosenblattClassifier(kernel='gaussian')\n",
    "classParzen.fit(X_train, y_train, h_values=[20, 1, 0.1])\n",
    "\n",
    "predictions = classParzen.predict(X_test)"
   ]
  },
  {
   "cell_type": "code",
   "execution_count": 64,
   "metadata": {},
   "outputs": [
    {
     "name": "stdout",
     "output_type": "stream",
     "text": [
      "Accuracy gaussian test: 0.9141666666666667\n"
     ]
    }
   ],
   "source": [
    "accuracy = accuracy_score(y_test, predictions)\n",
    "print(f'Accuracy gaussian test: {accuracy}')"
   ]
  },
  {
   "cell_type": "code",
   "execution_count": 69,
   "metadata": {},
   "outputs": [
    {
     "name": "stdout",
     "output_type": "stream",
     "text": [
      "Accuracy for h=40: 0.20907142857142857\n",
      "Accuracy for h=20: 0.4777142857142857\n",
      "Accuracy for h=10: 0.6365\n",
      "Accuracy for h=5: 0.9424285714285714\n",
      "Accuracy for h=4: 0.9774285714285714\n"
     ]
    }
   ],
   "source": [
    "classParzen = ParzenRosenblattClassifier(kernel='epanechnikov')\n",
    "classParzen.fit(X_train, y_train, h_values=[40, 20, 10, 5, 4])\n",
    "\n",
    "# Работает дольше\n",
    "predictions = classParzen.predict(X_test)"
   ]
  },
  {
   "cell_type": "code",
   "execution_count": 59,
   "metadata": {},
   "outputs": [
    {
     "name": "stdout",
     "output_type": "stream",
     "text": [
      "Accuracy epanechnikov test: 0.937\n"
     ]
    }
   ],
   "source": [
    "predictions = classParzen.predict(X_test)\n",
    "accuracy = accuracy_score(y_test, predictions)\n",
    "print(f'Accuracy epanechnikov test: {accuracy}')"
   ]
  },
  {
   "cell_type": "code",
   "execution_count": 72,
   "metadata": {},
   "outputs": [
    {
     "name": "stdout",
     "output_type": "stream",
     "text": [
      "Accuracy for h=5: 0.9702142857142857\n",
      "Accuracy for h=2: 1.0\n",
      "Accuracy for h=1: 1.0\n"
     ]
    }
   ],
   "source": [
    "classParzen = ParzenRosenblattClassifier(kernel='quartic')\n",
    "classParzen.fit(X_train, y_train, h_values=[5, 2, 1])\n",
    "\n",
    "# Работает дольше\n",
    "predictions = classParzen.predict(X_test)"
   ]
  },
  {
   "cell_type": "code",
   "execution_count": 71,
   "metadata": {},
   "outputs": [
    {
     "name": "stdout",
     "output_type": "stream",
     "text": [
      "Accuracy  quartic test: 0.9151666666666667\n"
     ]
    }
   ],
   "source": [
    "predictions_q = classParzen.predict(X_test)\n",
    "accuracy = accuracy_score(y_test, predictions_q)\n",
    "print(f'Accuracy  quartic test: {accuracy}')"
   ]
  }
 ],
 "metadata": {
  "kernelspec": {
   "display_name": "Python 3",
   "language": "python",
   "name": "python3"
  },
  "language_info": {
   "codemirror_mode": {
    "name": "ipython",
    "version": 3
   },
   "file_extension": ".py",
   "mimetype": "text/x-python",
   "name": "python",
   "nbconvert_exporter": "python",
   "pygments_lexer": "ipython3",
   "version": "3.9.6"
  }
 },
 "nbformat": 4,
 "nbformat_minor": 2
}
