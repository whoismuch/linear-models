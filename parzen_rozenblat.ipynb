{
 "cells": [
  {
   "cell_type": "code",
   "execution_count": 1,
   "metadata": {
    "ExecuteTime": {
     "end_time": "2023-12-21T14:27:02.352443Z",
     "start_time": "2023-12-21T14:26:58.972419Z"
    }
   },
   "outputs": [],
   "source": [
    "import numpy as np\n",
    "import matplotlib.pyplot as plt\n",
    "from sklearn.model_selection import train_test_split\n",
    "import pandas as pd\n",
    "# import seaborn as sns\n",
    "# from sklearn.ensemble import RandomForestClassifier\n",
    "from sklearn import preprocessing\n",
    "import math\n",
    "from sklearn.metrics import accuracy_score\n",
    "rng = np.random.default_rng(51)\n"
   ]
  },
  {
   "cell_type": "code",
   "execution_count": 2,
   "metadata": {
    "ExecuteTime": {
     "end_time": "2023-12-21T14:27:02.378860Z",
     "start_time": "2023-12-21T14:27:02.351712Z"
    }
   },
   "outputs": [],
   "source": [
    "df = pd.read_csv('letter-recognition.data', header=None)\n"
   ]
  },
  {
   "cell_type": "code",
   "execution_count": 3,
   "metadata": {
    "ExecuteTime": {
     "end_time": "2023-12-21T14:27:02.383632Z",
     "start_time": "2023-12-21T14:27:02.363226Z"
    }
   },
   "outputs": [
    {
     "name": "stderr",
     "output_type": "stream",
     "text": [
      "/Users/khumachbayramova/anaconda3/envs/linear-models/lib/python3.11/site-packages/sklearn/utils/validation.py:605: FutureWarning: is_sparse is deprecated and will be removed in a future version. Check `isinstance(dtype, pd.SparseDtype)` instead.\n",
      "  if is_sparse(pd_dtype):\n",
      "/Users/khumachbayramova/anaconda3/envs/linear-models/lib/python3.11/site-packages/sklearn/utils/validation.py:614: FutureWarning: is_sparse is deprecated and will be removed in a future version. Check `isinstance(dtype, pd.SparseDtype)` instead.\n",
      "  if is_sparse(pd_dtype) or not is_extension_array_dtype(pd_dtype):\n",
      "/Users/khumachbayramova/anaconda3/envs/linear-models/lib/python3.11/site-packages/sklearn/utils/validation.py:605: FutureWarning: is_sparse is deprecated and will be removed in a future version. Check `isinstance(dtype, pd.SparseDtype)` instead.\n",
      "  if is_sparse(pd_dtype):\n",
      "/Users/khumachbayramova/anaconda3/envs/linear-models/lib/python3.11/site-packages/sklearn/utils/validation.py:614: FutureWarning: is_sparse is deprecated and will be removed in a future version. Check `isinstance(dtype, pd.SparseDtype)` instead.\n",
      "  if is_sparse(pd_dtype) or not is_extension_array_dtype(pd_dtype):\n",
      "/Users/khumachbayramova/anaconda3/envs/linear-models/lib/python3.11/site-packages/sklearn/utils/validation.py:605: FutureWarning: is_sparse is deprecated and will be removed in a future version. Check `isinstance(dtype, pd.SparseDtype)` instead.\n",
      "  if is_sparse(pd_dtype):\n",
      "/Users/khumachbayramova/anaconda3/envs/linear-models/lib/python3.11/site-packages/sklearn/utils/validation.py:614: FutureWarning: is_sparse is deprecated and will be removed in a future version. Check `isinstance(dtype, pd.SparseDtype)` instead.\n",
      "  if is_sparse(pd_dtype) or not is_extension_array_dtype(pd_dtype):\n",
      "/Users/khumachbayramova/anaconda3/envs/linear-models/lib/python3.11/site-packages/sklearn/utils/validation.py:605: FutureWarning: is_sparse is deprecated and will be removed in a future version. Check `isinstance(dtype, pd.SparseDtype)` instead.\n",
      "  if is_sparse(pd_dtype):\n",
      "/Users/khumachbayramova/anaconda3/envs/linear-models/lib/python3.11/site-packages/sklearn/utils/validation.py:614: FutureWarning: is_sparse is deprecated and will be removed in a future version. Check `isinstance(dtype, pd.SparseDtype)` instead.\n",
      "  if is_sparse(pd_dtype) or not is_extension_array_dtype(pd_dtype):\n",
      "/Users/khumachbayramova/anaconda3/envs/linear-models/lib/python3.11/site-packages/sklearn/utils/validation.py:605: FutureWarning: is_sparse is deprecated and will be removed in a future version. Check `isinstance(dtype, pd.SparseDtype)` instead.\n",
      "  if is_sparse(pd_dtype):\n",
      "/Users/khumachbayramova/anaconda3/envs/linear-models/lib/python3.11/site-packages/sklearn/utils/validation.py:614: FutureWarning: is_sparse is deprecated and will be removed in a future version. Check `isinstance(dtype, pd.SparseDtype)` instead.\n",
      "  if is_sparse(pd_dtype) or not is_extension_array_dtype(pd_dtype):\n",
      "/Users/khumachbayramova/anaconda3/envs/linear-models/lib/python3.11/site-packages/sklearn/utils/validation.py:605: FutureWarning: is_sparse is deprecated and will be removed in a future version. Check `isinstance(dtype, pd.SparseDtype)` instead.\n",
      "  if is_sparse(pd_dtype):\n",
      "/Users/khumachbayramova/anaconda3/envs/linear-models/lib/python3.11/site-packages/sklearn/utils/validation.py:614: FutureWarning: is_sparse is deprecated and will be removed in a future version. Check `isinstance(dtype, pd.SparseDtype)` instead.\n",
      "  if is_sparse(pd_dtype) or not is_extension_array_dtype(pd_dtype):\n",
      "/Users/khumachbayramova/anaconda3/envs/linear-models/lib/python3.11/site-packages/sklearn/utils/validation.py:605: FutureWarning: is_sparse is deprecated and will be removed in a future version. Check `isinstance(dtype, pd.SparseDtype)` instead.\n",
      "  if is_sparse(pd_dtype):\n",
      "/Users/khumachbayramova/anaconda3/envs/linear-models/lib/python3.11/site-packages/sklearn/utils/validation.py:614: FutureWarning: is_sparse is deprecated and will be removed in a future version. Check `isinstance(dtype, pd.SparseDtype)` instead.\n",
      "  if is_sparse(pd_dtype) or not is_extension_array_dtype(pd_dtype):\n",
      "/Users/khumachbayramova/anaconda3/envs/linear-models/lib/python3.11/site-packages/sklearn/utils/validation.py:605: FutureWarning: is_sparse is deprecated and will be removed in a future version. Check `isinstance(dtype, pd.SparseDtype)` instead.\n",
      "  if is_sparse(pd_dtype):\n",
      "/Users/khumachbayramova/anaconda3/envs/linear-models/lib/python3.11/site-packages/sklearn/utils/validation.py:614: FutureWarning: is_sparse is deprecated and will be removed in a future version. Check `isinstance(dtype, pd.SparseDtype)` instead.\n",
      "  if is_sparse(pd_dtype) or not is_extension_array_dtype(pd_dtype):\n",
      "/Users/khumachbayramova/anaconda3/envs/linear-models/lib/python3.11/site-packages/sklearn/utils/validation.py:605: FutureWarning: is_sparse is deprecated and will be removed in a future version. Check `isinstance(dtype, pd.SparseDtype)` instead.\n",
      "  if is_sparse(pd_dtype):\n",
      "/Users/khumachbayramova/anaconda3/envs/linear-models/lib/python3.11/site-packages/sklearn/utils/validation.py:614: FutureWarning: is_sparse is deprecated and will be removed in a future version. Check `isinstance(dtype, pd.SparseDtype)` instead.\n",
      "  if is_sparse(pd_dtype) or not is_extension_array_dtype(pd_dtype):\n",
      "/Users/khumachbayramova/anaconda3/envs/linear-models/lib/python3.11/site-packages/sklearn/utils/validation.py:605: FutureWarning: is_sparse is deprecated and will be removed in a future version. Check `isinstance(dtype, pd.SparseDtype)` instead.\n",
      "  if is_sparse(pd_dtype):\n",
      "/Users/khumachbayramova/anaconda3/envs/linear-models/lib/python3.11/site-packages/sklearn/utils/validation.py:614: FutureWarning: is_sparse is deprecated and will be removed in a future version. Check `isinstance(dtype, pd.SparseDtype)` instead.\n",
      "  if is_sparse(pd_dtype) or not is_extension_array_dtype(pd_dtype):\n",
      "/Users/khumachbayramova/anaconda3/envs/linear-models/lib/python3.11/site-packages/sklearn/utils/validation.py:605: FutureWarning: is_sparse is deprecated and will be removed in a future version. Check `isinstance(dtype, pd.SparseDtype)` instead.\n",
      "  if is_sparse(pd_dtype):\n",
      "/Users/khumachbayramova/anaconda3/envs/linear-models/lib/python3.11/site-packages/sklearn/utils/validation.py:614: FutureWarning: is_sparse is deprecated and will be removed in a future version. Check `isinstance(dtype, pd.SparseDtype)` instead.\n",
      "  if is_sparse(pd_dtype) or not is_extension_array_dtype(pd_dtype):\n",
      "/Users/khumachbayramova/anaconda3/envs/linear-models/lib/python3.11/site-packages/sklearn/utils/validation.py:605: FutureWarning: is_sparse is deprecated and will be removed in a future version. Check `isinstance(dtype, pd.SparseDtype)` instead.\n",
      "  if is_sparse(pd_dtype):\n",
      "/Users/khumachbayramova/anaconda3/envs/linear-models/lib/python3.11/site-packages/sklearn/utils/validation.py:614: FutureWarning: is_sparse is deprecated and will be removed in a future version. Check `isinstance(dtype, pd.SparseDtype)` instead.\n",
      "  if is_sparse(pd_dtype) or not is_extension_array_dtype(pd_dtype):\n",
      "/Users/khumachbayramova/anaconda3/envs/linear-models/lib/python3.11/site-packages/sklearn/utils/validation.py:605: FutureWarning: is_sparse is deprecated and will be removed in a future version. Check `isinstance(dtype, pd.SparseDtype)` instead.\n",
      "  if is_sparse(pd_dtype):\n",
      "/Users/khumachbayramova/anaconda3/envs/linear-models/lib/python3.11/site-packages/sklearn/utils/validation.py:614: FutureWarning: is_sparse is deprecated and will be removed in a future version. Check `isinstance(dtype, pd.SparseDtype)` instead.\n",
      "  if is_sparse(pd_dtype) or not is_extension_array_dtype(pd_dtype):\n",
      "/Users/khumachbayramova/anaconda3/envs/linear-models/lib/python3.11/site-packages/sklearn/utils/validation.py:605: FutureWarning: is_sparse is deprecated and will be removed in a future version. Check `isinstance(dtype, pd.SparseDtype)` instead.\n",
      "  if is_sparse(pd_dtype):\n",
      "/Users/khumachbayramova/anaconda3/envs/linear-models/lib/python3.11/site-packages/sklearn/utils/validation.py:614: FutureWarning: is_sparse is deprecated and will be removed in a future version. Check `isinstance(dtype, pd.SparseDtype)` instead.\n",
      "  if is_sparse(pd_dtype) or not is_extension_array_dtype(pd_dtype):\n",
      "/Users/khumachbayramova/anaconda3/envs/linear-models/lib/python3.11/site-packages/sklearn/utils/validation.py:605: FutureWarning: is_sparse is deprecated and will be removed in a future version. Check `isinstance(dtype, pd.SparseDtype)` instead.\n",
      "  if is_sparse(pd_dtype):\n",
      "/Users/khumachbayramova/anaconda3/envs/linear-models/lib/python3.11/site-packages/sklearn/utils/validation.py:614: FutureWarning: is_sparse is deprecated and will be removed in a future version. Check `isinstance(dtype, pd.SparseDtype)` instead.\n",
      "  if is_sparse(pd_dtype) or not is_extension_array_dtype(pd_dtype):\n",
      "/Users/khumachbayramova/anaconda3/envs/linear-models/lib/python3.11/site-packages/sklearn/utils/validation.py:605: FutureWarning: is_sparse is deprecated and will be removed in a future version. Check `isinstance(dtype, pd.SparseDtype)` instead.\n",
      "  if is_sparse(pd_dtype):\n",
      "/Users/khumachbayramova/anaconda3/envs/linear-models/lib/python3.11/site-packages/sklearn/utils/validation.py:614: FutureWarning: is_sparse is deprecated and will be removed in a future version. Check `isinstance(dtype, pd.SparseDtype)` instead.\n",
      "  if is_sparse(pd_dtype) or not is_extension_array_dtype(pd_dtype):\n",
      "/Users/khumachbayramova/anaconda3/envs/linear-models/lib/python3.11/site-packages/sklearn/utils/validation.py:605: FutureWarning: is_sparse is deprecated and will be removed in a future version. Check `isinstance(dtype, pd.SparseDtype)` instead.\n",
      "  if is_sparse(pd_dtype):\n",
      "/Users/khumachbayramova/anaconda3/envs/linear-models/lib/python3.11/site-packages/sklearn/utils/validation.py:614: FutureWarning: is_sparse is deprecated and will be removed in a future version. Check `isinstance(dtype, pd.SparseDtype)` instead.\n",
      "  if is_sparse(pd_dtype) or not is_extension_array_dtype(pd_dtype):\n"
     ]
    }
   ],
   "source": [
    "le = preprocessing.LabelEncoder()\n",
    "for column_name in df.columns:\n",
    "    df[column_name] = le.fit_transform(df[column_name])\n",
    "y = df[0]\n",
    "X = df.loc[:, df.columns != 0]"
   ]
  },
  {
   "cell_type": "code",
   "execution_count": 4,
   "metadata": {
    "ExecuteTime": {
     "end_time": "2023-12-21T14:27:03.407567Z",
     "start_time": "2023-12-21T14:27:03.389449Z"
    }
   },
   "outputs": [],
   "source": [
    "X_train, X_test, y_train, y_test = train_test_split(X, y, test_size=0.3, random_state=42)\n"
   ]
  },
  {
   "cell_type": "code",
   "execution_count": 5,
   "metadata": {
    "ExecuteTime": {
     "end_time": "2023-12-21T14:27:04.746451Z",
     "start_time": "2023-12-21T14:27:04.736407Z"
    }
   },
   "outputs": [],
   "source": [
    "X_train =  X_train.to_numpy()\n",
    "y_train = y_train.to_numpy()\n",
    "y_test = y_test.to_numpy()\n",
    "X_test = X_test.to_numpy()"
   ]
  },
  {
   "cell_type": "code",
   "execution_count": 26,
   "outputs": [],
   "source": [
    "def quartic_kernel(u):\n",
    "    return (15 / 16) * (1 - u**2)**2 if np.abs(u) <= 1 else 0"
   ],
   "metadata": {
    "collapsed": false,
    "ExecuteTime": {
     "end_time": "2023-12-21T15:22:22.198602Z",
     "start_time": "2023-12-21T15:22:22.183946Z"
    }
   }
  },
  {
   "cell_type": "code",
   "execution_count": 49,
   "metadata": {
    "ExecuteTime": {
     "end_time": "2023-12-21T16:05:48.605391Z",
     "start_time": "2023-12-21T16:05:48.589770Z"
    }
   },
   "outputs": [],
   "source": [
    "\n",
    "class ParzenRosenblattClassifier:\n",
    "    def __init__(self, kernel='gaussian'):\n",
    "        self.kernel = kernel\n",
    "        self.h_values = None\n",
    "        \n",
    "        if self.kernel == 'gaussian':\n",
    "            self.kernel_func = self.gaussian_kernel\n",
    "        elif self.kernel == 'quartic':\n",
    "            self.kernel_func = self.quartic_kernel\n",
    "        elif self.kernel == 'epanechnikov':\n",
    "            self.kernel_func = self.epanechnikov_kernel\n",
    "\n",
    "    def fit(self, X, y, h_values=None):\n",
    "        self.X = X\n",
    "        self.y = y\n",
    "        self.h_values = h_values\n",
    "\n",
    "    def leave_one_out(self, h):\n",
    "        predictions = []\n",
    "        for i in range(len(self.X)):\n",
    "            train_X = np.delete(self.X, i, axis=0)\n",
    "            train_y = np.delete(self.y, i, axis=0)\n",
    "            test_point = self.X[i]\n",
    "            predicted_class = self.predict([test_point], h, train_X, train_y)[0]\n",
    "            predictions.append(predicted_class)\n",
    "\n",
    "        return accuracy_score(self.y, predictions)\n",
    "\n",
    "    def select_h(self, h_candidates):\n",
    "        best_h = None\n",
    "        best_accuracy = 0\n",
    "\n",
    "        for h in h_candidates:\n",
    "            accuracy = self.leave_one_out(h)\n",
    "            print(f\"Accuracy for h={h}: {accuracy}\")\n",
    "            \n",
    "            if accuracy > best_accuracy:\n",
    "                best_accuracy = accuracy\n",
    "                best_h = h\n",
    "\n",
    "        return best_h\n",
    "    \n",
    "    def epanechnikov_kernel(self, u):\n",
    "        return 0.75 * (1 - u**2) if np.abs(u) <= 1 else 0\n",
    "\n",
    "    def quartic_kernel(self, u):\n",
    "        return (15 / 16) * (1 - u**2)**2 if np.abs(u) <= 1 else 0\n",
    "    \n",
    "    def gaussian_kernel(self, u):\n",
    "        return np.exp(-0.5 * u**2) / (np.sqrt(2 * np.pi))\n",
    "    \n",
    "    def get_kernel_args(self, point, h):\n",
    "        kernel_args = np.array([])\n",
    "        for x in self.X:\n",
    "            distance = np.linalg.norm(x - point)\n",
    "            kernel_args = np.append(kernel_args, distance/h)\n",
    "        return kernel_args\n",
    "    \n",
    "    def get_integral_under_kernel(self, kernel_args, kernel_func):\n",
    "        split_kernel_args = np.array_split(kernel_args, len(kernel_args) // 50)\n",
    "        total_integral = 0.0\n",
    "        for part in split_kernel_args:\n",
    "            a = min(part)\n",
    "            b = max(part)\n",
    "            integral, _ = spi.quad(self.kernel_func, a, b, points=part)\n",
    "            total_integral += integral\n",
    "        return total_integral\n",
    "    \n",
    "    \n",
    "\n",
    "    def predict(self, X_new, h=None, train_X=None, train_y=None):\n",
    "        predictions = []\n",
    "        if h is None:\n",
    "            h = self.select_h(self.h_values)\n",
    "\n",
    "        for point in X_new:\n",
    "            scores = np.zeros(len(set(self.y)))\n",
    "            l = self.X.shape[0]\n",
    "            kernel_args = self.get_kernel_args(point, h)\n",
    "            v = self.get_integral_under_kernel(kernel_args, self.quartic_kernel)\n",
    "            \n",
    "            for label in set(self.y):\n",
    "                label_indices = np.where(self.y == label)[0]\n",
    "                label_data = self.X[label_indices]\n",
    "                distances = np.linalg.norm(label_data - point, axis=1)\n",
    "                # kernel_args = np.append(kernel_args, distances/h)\n",
    "                if self.kernel == 'gaussian':\n",
    "                    weights = np.exp(-0.5 * (distances / h)**2) / ((2 * np.pi)**(len(point)/2) * h**len(point))\n",
    "                elif self.kernel == 'quartic':\n",
    "                    weights = np.array([self.quartic_kernel(u / h) for u in distances])\n",
    "                elif self.kernel == 'epanechnikov':\n",
    "                    weights = np.array([self.epanechnikov_kernel(u / h) for u in distances])\n",
    "                else:\n",
    "                    pass\n",
    "                \n",
    "                scores[label] = sum(weights)/(l*v)\n",
    "\n",
    " \n",
    "            predicted_class = np.argmax(scores, axis=0)\n",
    "            predictions.append(predicted_class)\n",
    "        \n",
    "            \n",
    "\n",
    "        return np.array(predictions)\n"
   ]
  },
  {
   "cell_type": "code",
   "execution_count": null,
   "metadata": {
    "is_executing": true,
    "ExecuteTime": {
     "start_time": "2023-12-21T16:05:48.989246Z"
    }
   },
   "outputs": [
    {
     "name": "stderr",
     "output_type": "stream",
     "text": [
      "/var/folders/jr/7cpxm2sj4y74r__lw8nqpvfw0000gn/T/ipykernel_38253/4212973441.py:65: IntegrationWarning: The maximum number of subdivisions (50) has been achieved.\n",
      "  If increasing the limit yields no improvement it is advised to analyze \n",
      "  the integrand in order to determine the difficulties.  If the position of a \n",
      "  local difficulty can be determined (singularity, discontinuity) one will \n",
      "  probably gain from splitting up the interval and calling the integrator \n",
      "  on the subranges.  Perhaps a special-purpose integrator should be used.\n",
      "  integral, _ = spi.quad(self.kernel_func, a, b, points=part)\n"
     ]
    }
   ],
   "source": [
    "classParzen = ParzenRosenblattClassifier(kernel='gaussian')\n",
    "classParzen.fit(X_train, y_train, h_values=[2, 5])\n",
    "\n",
    "predictions = classParzen.predict(X_test)"
   ]
  },
  {
   "cell_type": "code",
   "execution_count": 15,
   "outputs": [
    {
     "data": {
      "text/plain": "1.0"
     },
     "execution_count": 15,
     "metadata": {},
     "output_type": "execute_result"
    }
   ],
   "source": [
    "import scipy.integrate as spi\n",
    "import numpy as np\n",
    "\n",
    "def gaussian_kernel(u):\n",
    "    return 1 / np.sqrt(2 * np.pi) * np.exp(-0.5 * u**2)\n",
    "\n",
    "def epanechnikov_kernel(u):\n",
    "    return 0.75 * (1 - u**2) if np.abs(u) <= 1 else 0\n",
    "\n",
    "def quartic_kernel(u):\n",
    "        return (15 / 16) * (1 - u**2)**2 if np.abs(u) <= 1 else 0\n",
    "\n",
    "# Вычисление интеграла от гауссовского ядра от -бесконечности до +бесконечности\n",
    "result, _ = spi.quad(quartic_kernel, -np.inf, np.inf)\n",
    "result"
   ],
   "metadata": {
    "collapsed": false,
    "ExecuteTime": {
     "end_time": "2023-12-21T15:09:57.448792Z",
     "start_time": "2023-12-21T15:09:57.443664Z"
    }
   }
  },
  {
   "cell_type": "code",
   "execution_count": 24,
   "metadata": {},
   "outputs": [
    {
     "name": "stdout",
     "output_type": "stream",
     "text": [
      "Accuracy: 0.9386666666666666\n"
     ]
    }
   ],
   "source": [
    "accuracy = accuracy_score(y_test, predictions)\n",
    "print(f'Accuracy gaussian test: {accuracy}')"
   ]
  },
  {
   "cell_type": "code",
   "execution_count": 26,
   "metadata": {},
   "outputs": [
    {
     "name": "stdout",
     "output_type": "stream",
     "text": [
      "Accuracy for h=20: 0.449\n",
      "Accuracy for h=1: 1.0\n",
      "Accuracy for h=0.1: 1.0\n",
      "Accuracy for h=0.01: 1.0\n"
     ]
    }
   ],
   "source": [
    "classParzen = ParzenRosenblattClassifier(kernel='epanechnikov')\n",
    "classParzen.fit(X_train, y_train, h_values=[20, 1, 0.1, 0.01])\n",
    "\n",
    "# Работает дольше\n",
    "predictions = classParzen.predict(X_test)"
   ]
  },
  {
   "cell_type": "code",
   "execution_count": 46,
   "metadata": {},
   "outputs": [
    {
     "name": "stdout",
     "output_type": "stream",
     "text": [
      "Accuracy epanechnikov test: 0.866\n"
     ]
    }
   ],
   "source": [
    "predictions = classParzen.predict(X_test, 7)\n",
    "accuracy = accuracy_score(y_test, predictions)\n",
    "print(f'Accuracy epanechnikov test: {accuracy}')"
   ]
  },
  {
   "cell_type": "code",
   "execution_count": 37,
   "metadata": {},
   "outputs": [
    {
     "name": "stdout",
     "output_type": "stream",
     "text": [
      "Accuracy for h=1: 1.0\n",
      "Accuracy for h=0.1: 1.0\n",
      "Accuracy for h=0.01: 1.0\n"
     ]
    }
   ],
   "source": [
    "classParzen = ParzenRosenblattClassifier(kernel='quartic')\n",
    "classParzen.fit(X_train, y_train, h_values=[5, 0.1, 0.01])\n",
    "\n",
    "# Работает дольше\n",
    "predictions = classParzen.predict(X_test)"
   ]
  },
  {
   "cell_type": "code",
   "execution_count": 44,
   "metadata": {},
   "outputs": [
    {
     "name": "stdout",
     "output_type": "stream",
     "text": [
      "Accuracy  quartic test: 0.9376666666666666\n"
     ]
    }
   ],
   "source": [
    "predictions_q = classParzen.predict(X_test, 5)\n",
    "accuracy = accuracy_score(y_test, predictions_q)\n",
    "print(f'Accuracy  quartic test: {accuracy}')"
   ]
  }
 ],
 "metadata": {
  "kernelspec": {
   "display_name": "Python 3",
   "language": "python",
   "name": "python3"
  },
  "language_info": {
   "codemirror_mode": {
    "name": "ipython",
    "version": 3
   },
   "file_extension": ".py",
   "mimetype": "text/x-python",
   "name": "python",
   "nbconvert_exporter": "python",
   "pygments_lexer": "ipython3",
   "version": "3.9.6"
  }
 },
 "nbformat": 4,
 "nbformat_minor": 2
}
